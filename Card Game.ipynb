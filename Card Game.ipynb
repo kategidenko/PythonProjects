{
 "cells": [
  {
   "cell_type": "code",
   "execution_count": 4,
   "metadata": {},
   "outputs": [
    {
     "name": "stdout",
     "output_type": "stream",
     "text": [
      "[['ace', '♠'], ['king', '♠'], ['queen', '♠'], ['jack', '♠'], ['10', '♠'], ['9', '♠'], ['8', '♠'], ['7', '♠'], ['6', '♠'], ['5', '♠'], ['4', '♠'], ['3', '♠'], ['2', '♠'], ['ace', '♥'], ['king', '♥'], ['queen', '♥'], ['jack', '♥'], ['10', '♥'], ['9', '♥'], ['8', '♥'], ['7', '♥'], ['6', '♥'], ['5', '♥'], ['4', '♥'], ['3', '♥'], ['2', '♥'], ['ace', '♦'], ['king', '♦'], ['queen', '♦'], ['jack', '♦'], ['10', '♦'], ['9', '♦'], ['8', '♦'], ['7', '♦'], ['6', '♦'], ['5', '♦'], ['4', '♦'], ['3', '♦'], ['2', '♦'], ['ace', '♣'], ['king', '♣'], ['queen', '♣'], ['jack', '♣'], ['10', '♣'], ['9', '♣'], ['8', '♣'], ['7', '♣'], ['6', '♣'], ['5', '♣'], ['4', '♣'], ['3', '♣'], ['2', '♣']]\n"
     ]
    }
   ],
   "source": [
    "suits = ['♠','♥','♦','♣']\n",
    "ranks = ['ace','king','queen','jack','10','9','8','7','6', '5','4','3','2']\n",
    "cards = []\n",
    "for suit in suits:\n",
    "    for rank in ranks:\n",
    "        cards.append([rank,suit])\n",
    "print(cards)\n",
    "        "
   ]
  },
  {
   "cell_type": "code",
   "execution_count": 5,
   "metadata": {},
   "outputs": [
    {
     "data": {
      "text/plain": [
       "52"
      ]
     },
     "execution_count": 5,
     "metadata": {},
     "output_type": "execute_result"
    }
   ],
   "source": [
    "len(cards)"
   ]
  },
  {
   "cell_type": "code",
   "execution_count": 6,
   "metadata": {},
   "outputs": [],
   "source": [
    "import random"
   ]
  },
  {
   "cell_type": "code",
   "execution_count": 7,
   "metadata": {},
   "outputs": [
    {
     "name": "stdout",
     "output_type": "stream",
     "text": [
      "[['ace', '♣'], ['10', '♥'], ['8', '♦'], ['jack', '♦'], ['king', '♦'], ['4', '♣'], ['3', '♥'], ['8', '♠'], ['6', '♠'], ['7', '♣'], ['king', '♣'], ['jack', '♠'], ['10', '♦'], ['8', '♣'], ['5', '♣'], ['queen', '♣'], ['2', '♠'], ['king', '♠'], ['jack', '♣'], ['7', '♥'], ['4', '♦'], ['10', '♣'], ['5', '♠'], ['2', '♣'], ['6', '♥'], ['7', '♠'], ['queen', '♥'], ['5', '♦'], ['queen', '♦'], ['3', '♣'], ['10', '♠'], ['2', '♦'], ['4', '♠'], ['8', '♥'], ['9', '♥'], ['6', '♣'], ['3', '♦'], ['ace', '♥'], ['7', '♦'], ['9', '♠'], ['ace', '♦'], ['3', '♠'], ['jack', '♥'], ['2', '♥'], ['4', '♥'], ['5', '♥'], ['9', '♦'], ['queen', '♠'], ['king', '♥'], ['9', '♣'], ['ace', '♠'], ['6', '♦']]\n"
     ]
    }
   ],
   "source": [
    "shuffled = random.sample(cards, len(cards))\n",
    "print(shuffled)"
   ]
  },
  {
   "cell_type": "code",
   "execution_count": 15,
   "metadata": {},
   "outputs": [
    {
     "name": "stdout",
     "output_type": "stream",
     "text": [
      "player cards: [['10', '♥'], ['10', '♠']]\n",
      "dealer cards: [['6', '♦'], '***']\n",
      "cards left in deck: 48\n",
      "player cards: [['10', '♥'], ['10', '♠']]\n",
      "current score: 20\n",
      "1: hit me\n",
      "2: stay\n",
      "2\n",
      "player cards: [['10', '♥'], ['10', '♠']]\n",
      "player score: 20\n",
      "dealer cards: [['6', '♦'], ['7', '♣'], ['queen', '♣']]\n",
      "dealer score: 23\n",
      "YOU WIN!\n"
     ]
    }
   ],
   "source": [
    "import random\n",
    "\n",
    "shuffled = random.sample(cards, len(cards))\n",
    "\n",
    "player_cards = []\n",
    "dealer_cards = []\n",
    "\n",
    "#func that gives 2 cards to player and dealer\n",
    "def draw():\n",
    "    player_cards.append(shuffled.pop())\n",
    "    dealer_cards.append(shuffled.pop())\n",
    "    player_cards.append(shuffled.pop())\n",
    "    dealer_cards.append(shuffled.pop())\n",
    "\n",
    "#cards dealt and view your cards and one dealer card\n",
    "draw()\n",
    "print(\"player cards:\", player_cards)\n",
    "print(\"dealer cards:\", [dealer_cards[0], \"***\"])\n",
    "\n",
    "def calculatescore(cards):\n",
    "    score = 0\n",
    "    aces = 0\n",
    "    for card in cards:\n",
    "        if card[0] == 'ace':\n",
    "            aces += 1\n",
    "            score += 11\n",
    "        elif card[0] == 'king' or card[0] == 'queen' or card[0] == 'jack':\n",
    "            score += 10\n",
    "        else:\n",
    "            score += int(card[0])\n",
    "    \n",
    "    while score > 21 and aces > 0:\n",
    "        score -= 10\n",
    "        aces -= 1\n",
    "    \n",
    "    return score\n",
    "\n",
    "decision = \"\"\n",
    "\n",
    "while decision != \"2\":\n",
    "    dealer_score = calculatescore(dealer_cards)\n",
    "    player_score = calculatescore(player_cards)\n",
    "    print(\"cards left in deck:\", len(shuffled))\n",
    "    print(\"player cards:\", player_cards)\n",
    "    print(\"current score:\", player_score)\n",
    "    print(\"1: hit me\")\n",
    "    print(\"2: stay\")\n",
    "    decision = input()\n",
    "    if decision == \"1\":\n",
    "        player_cards.append(shuffled.pop())\n",
    "        player_score = calculatescore(player_cards)\n",
    "        if player_score > 21:\n",
    "            print(\"player cards:\", player_cards)\n",
    "            print(\"player score:\", player_score)\n",
    "            break\n",
    "    elif decision == \"2\":\n",
    "        print(\"player cards:\", player_cards)\n",
    "        print(\"player score:\", player_score)\n",
    "        \n",
    "        while dealer_score <= player_score and player_score <= 21:\n",
    "            if dealer_score <= 17:\n",
    "                dealer_cards.append(shuffled.pop())\n",
    "                dealer_score = calculatescore(dealer_cards)\n",
    "        \n",
    "        \n",
    "        print(\"dealer cards:\", dealer_cards)\n",
    "        print(\"dealer score:\", dealer_score)\n",
    "        \n",
    "    else:\n",
    "        print(\"invalid input\")\n",
    "        \n",
    "\n",
    "if dealer_score > 21 and player_score <= 21:\n",
    "    print(\"YOU WIN!\")\n",
    "elif player_score > dealer_score and player_score <= 21:\n",
    "    print(\"YOU WIN!\")\n",
    "else:\n",
    "    print(\"you lose\")\n",
    "\n",
    "\n",
    "    \n"
   ]
  },
  {
   "cell_type": "code",
   "execution_count": null,
   "metadata": {},
   "outputs": [],
   "source": []
  }
 ],
 "metadata": {
  "kernelspec": {
   "display_name": "Python 3.6",
   "language": "python",
   "name": "python36"
  },
  "language_info": {
   "codemirror_mode": {
    "name": "ipython",
    "version": 3
   },
   "file_extension": ".py",
   "mimetype": "text/x-python",
   "name": "python",
   "nbconvert_exporter": "python",
   "pygments_lexer": "ipython3",
   "version": "3.6.6"
  }
 },
 "nbformat": 4,
 "nbformat_minor": 2
}
