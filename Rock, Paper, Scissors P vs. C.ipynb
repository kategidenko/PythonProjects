{
 "cells": [
  {
   "cell_type": "code",
   "execution_count": null,
   "metadata": {},
   "outputs": [],
   "source": [
    "import random\n",
    "\n",
    "options = [\"Rock\", \"Paper\", \"Scissors\"]\n",
    "\n",
    "computer = random.choice(options)\n",
    "player = False\n",
    "\n",
    "print(\"Rock, Paper, Scissors, Shoot!\")\n",
    "\n",
    "while player == False:\n",
    "\n",
    "    player = input(\"Rock, Paper, or Scissors? \")\n",
    "\n",
    "    if player == computer:\n",
    "        print(\"You Tie!\")\n",
    "    elif player == \"Rock\":\n",
    "        if computer == \"Paper\":\n",
    "            print(\"You lose! \" + computer + \" covers \" + player)\n",
    "        else:\n",
    "            print(\"You win! \" + player + \" smashes \" + computer)\n",
    "    elif player == \"Paper\":\n",
    "        if computer == \"Rock\":\n",
    "            print(\"You win! \" + player + \" covers \" + computer)\n",
    "        else:\n",
    "            print(\"You lose! \" + computer + \" cuts \" + player)\n",
    "    elif player == \"Scissors\":\n",
    "        if computer == \"Paper\":\n",
    "            print(\"You win! \" + player + \" cuts \" + computer)\n",
    "        else:\n",
    "            print(\"You lose! \" + computer + \" smashes \" + player)\n",
    "    elif player == \"Quit\":\n",
    "        print('Game Over')\n",
    "        break\n",
    "    else:\n",
    "        print('Not a valid play')\n",
    "\n",
    "    player = False\n",
    "    computer = random.choice(options)\n",
    "\n"
   ]
  },
  {
   "cell_type": "code",
   "execution_count": null,
   "metadata": {},
   "outputs": [],
   "source": []
  }
 ],
 "metadata": {
  "kernelspec": {
   "display_name": "Python 3.6",
   "language": "python",
   "name": "python36"
  },
  "language_info": {
   "codemirror_mode": {
    "name": "ipython",
    "version": 3
   },
   "file_extension": ".py",
   "mimetype": "text/x-python",
   "name": "python",
   "nbconvert_exporter": "python",
   "pygments_lexer": "ipython3",
   "version": "3.6.6"
  }
 },
 "nbformat": 4,
 "nbformat_minor": 2
}
